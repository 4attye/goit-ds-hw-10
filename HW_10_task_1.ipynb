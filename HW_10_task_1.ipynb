{
 "cells": [
  {
   "cell_type": "code",
   "execution_count": 1,
   "id": "initial_id",
   "metadata": {
    "ExecuteTime": {
     "end_time": "2024-10-20T13:36:22.683144Z",
     "start_time": "2024-10-20T13:36:22.657295Z"
    }
   },
   "outputs": [],
   "source": [
    "from surprise import accuracy, Dataset, SVD, SVDpp, NMF\n",
    "from surprise.model_selection import cross_validate\n",
    "from surprise.model_selection import train_test_split\n",
    "from surprise.model_selection import GridSearchCV"
   ]
  },
  {
   "cell_type": "code",
   "execution_count": 2,
   "id": "2f524623-434e-40a7-8da0-bf87b9a75fd8",
   "metadata": {},
   "outputs": [
    {
     "name": "stdout",
     "output_type": "stream",
     "text": [
      "RMSE: 0.9396\n",
      "MAE:  0.7393\n"
     ]
    },
    {
     "data": {
      "text/plain": [
       "0.7393222066199797"
      ]
     },
     "execution_count": 2,
     "metadata": {},
     "output_type": "execute_result"
    }
   ],
   "source": [
    "data = Dataset.load_builtin('ml-100k')\n",
    "trainset, testset = train_test_split(data, test_size=0.25)\n",
    "algo = SVD()\n",
    "predictions = algo.fit(trainset).test(testset)\n",
    "accuracy.rmse(predictions)\n",
    "accuracy.mae(predictions)"
   ]
  },
  {
   "cell_type": "code",
   "execution_count": 3,
   "id": "03a38d86-0270-4b93-8e7c-1593285273ed",
   "metadata": {},
   "outputs": [
    {
     "name": "stdout",
     "output_type": "stream",
     "text": [
      "{'n_factors': 100, 'n_epochs': 40, 'lr_all': 0.01, 'reg_all': 0.1}\n"
     ]
    }
   ],
   "source": [
    "param_grid_SVD = {\n",
    "    'n_factors': [50, 100, 150],\n",
    "    'n_epochs': [20, 30, 40],\n",
    "    'lr_all': [0.002, 0.005, 0.01],\n",
    "    'reg_all': [0.02, 0.05, 0.1]\n",
    "}\n",
    "\n",
    "gs = GridSearchCV(SVD, param_grid_SVD, measures=['rmse', 'mae'], cv=3, n_jobs= -1)\n",
    "gs.fit(data)\n",
    "\n",
    "print(gs.best_params['rmse'])"
   ]
  },
  {
   "cell_type": "code",
   "execution_count": 4,
   "id": "06f8f16d-5973-465a-b728-a6b9506568ba",
   "metadata": {},
   "outputs": [
    {
     "name": "stdout",
     "output_type": "stream",
     "text": [
      "{'n_factors': 100, 'n_epochs': 30, 'lr_all': 0.01, 'reg_all': 0.1}\n"
     ]
    }
   ],
   "source": [
    "param_grid_SVDpp = {\n",
    "    'n_factors': [20, 50, 100],\n",
    "    'n_epochs': [20, 30, 40],\n",
    "    'lr_all': [0.002, 0.005, 0.01],\n",
    "    'reg_all': [0.02, 0.05, 0.1]\n",
    "}\n",
    "\n",
    "gs = GridSearchCV(SVDpp, param_grid_SVDpp, measures=['rmse', 'mae'], cv=3, n_jobs= -1)\n",
    "gs.fit(data)\n",
    "\n",
    "print(gs.best_params['rmse'])"
   ]
  },
  {
   "cell_type": "code",
   "execution_count": 5,
   "id": "79eac245-72f2-4ed8-8600-0e360c4d65b1",
   "metadata": {},
   "outputs": [
    {
     "name": "stdout",
     "output_type": "stream",
     "text": [
      "{'n_factors': 50, 'n_epochs': 70, 'reg_pu': 0.06, 'reg_qi': 0.06}\n"
     ]
    }
   ],
   "source": [
    "param_grid_NMF = {\n",
    "    'n_factors': [15, 30, 50],\n",
    "    'n_epochs': [20, 50, 70],\n",
    "    'reg_pu': [0.04, 0.05, 0.06],\n",
    "    'reg_qi': [0.04, 0.05, 0.06]\n",
    "}\n",
    "\n",
    "gs = GridSearchCV(NMF, param_grid_NMF, measures=['rmse', 'mae'], cv=3, n_jobs= -1)\n",
    "gs.fit(data)\n",
    "\n",
    "print(gs.best_params['rmse'])"
   ]
  },
  {
   "cell_type": "code",
   "execution_count": 6,
   "id": "66ada511-6bc0-4abb-a6fc-364c8f09bfec",
   "metadata": {},
   "outputs": [
    {
     "name": "stdout",
     "output_type": "stream",
     "text": [
      "Evaluating RMSE, MAE of algorithm SVD on 5 split(s).\n",
      "\n",
      "                  Fold 1  Fold 2  Fold 3  Fold 4  Fold 5  Mean    Std     \n",
      "RMSE (testset)    0.9195  0.9092  0.9098  0.9093  0.9045  0.9105  0.0049  \n",
      "MAE (testset)     0.7244  0.7192  0.7177  0.7191  0.7162  0.7193  0.0028  \n",
      "Fit time          1.62    1.68    1.61    1.68    1.68    1.66    0.04    \n",
      "Test time         0.12    0.18    0.12    0.22    0.17    0.16    0.04    \n"
     ]
    },
    {
     "data": {
      "text/plain": [
       "{'test_rmse': array([0.91952937, 0.90924813, 0.90984433, 0.90929656, 0.90448481]),\n",
       " 'test_mae': array([0.72440727, 0.71915126, 0.71771424, 0.71910356, 0.71619245]),\n",
       " 'fit_time': (1.6155586242675781,\n",
       "  1.683551549911499,\n",
       "  1.6079163551330566,\n",
       "  1.6844241619110107,\n",
       "  1.6848080158233643),\n",
       " 'test_time': (0.1185142993927002,\n",
       "  0.17999815940856934,\n",
       "  0.12028193473815918,\n",
       "  0.21722745895385742,\n",
       "  0.16767549514770508)}"
      ]
     },
     "execution_count": 6,
     "metadata": {},
     "output_type": "execute_result"
    }
   ],
   "source": [
    "algoSVD = SVD(n_factors=100, n_epochs=40, lr_all=0.01, reg_all=0.1)\n",
    "cross_validate(algoSVD, data, measures=['RMSE', 'MAE'], cv=5, verbose=True)"
   ]
  },
  {
   "cell_type": "code",
   "execution_count": 17,
   "id": "6c2c8c24-122a-452f-bef7-d60695a867da",
   "metadata": {},
   "outputs": [
    {
     "name": "stdout",
     "output_type": "stream",
     "text": [
      "Evaluating RMSE, MAE of algorithm SVDpp on 5 split(s).\n",
      "\n",
      "                  Fold 1  Fold 2  Fold 3  Fold 4  Fold 5  Mean    Std     \n",
      "RMSE (testset)    0.9088  0.9109  0.9046  0.9035  0.9128  0.9081  0.0036  \n",
      "MAE (testset)     0.7160  0.7200  0.7155  0.7145  0.7235  0.7179  0.0034  \n",
      "Fit time          201.29  205.36  197.24  204.35  196.57  200.96  3.58    \n",
      "Test time         4.39    4.22    4.18    4.18    4.17    4.23    0.08    \n"
     ]
    },
    {
     "data": {
      "text/plain": [
       "{'test_rmse': array([0.90875038, 0.91088944, 0.90457488, 0.90349519, 0.91276303]),\n",
       " 'test_mae': array([0.71602947, 0.71997746, 0.71552274, 0.71447175, 0.72350336]),\n",
       " 'fit_time': (201.2885036468506,\n",
       "  205.36340928077698,\n",
       "  197.23885345458984,\n",
       "  204.3488712310791,\n",
       "  196.5710804462433),\n",
       " 'test_time': (4.390336990356445,\n",
       "  4.21510124206543,\n",
       "  4.180116653442383,\n",
       "  4.183165788650513,\n",
       "  4.170238733291626)}"
      ]
     },
     "execution_count": 17,
     "metadata": {},
     "output_type": "execute_result"
    }
   ],
   "source": [
    "algoSVDpp = SVDpp(n_factors=100, n_epochs=40, lr_all=0.01, reg_all=0.1)\n",
    "cross_validate(algoSVDpp, data, measures=['RMSE', 'MAE'], cv=5, verbose=True)"
   ]
  },
  {
   "cell_type": "code",
   "execution_count": 18,
   "id": "ffe9d30d-002b-484d-bc48-e8cb1f9bc843",
   "metadata": {},
   "outputs": [
    {
     "name": "stdout",
     "output_type": "stream",
     "text": [
      "Evaluating RMSE, MAE of algorithm NMF on 5 split(s).\n",
      "\n",
      "                  Fold 1  Fold 2  Fold 3  Fold 4  Fold 5  Mean    Std     \n",
      "RMSE (testset)    0.9538  0.9431  0.9430  0.9506  0.9522  0.9485  0.0046  \n",
      "MAE (testset)     0.7418  0.7345  0.7310  0.7378  0.7378  0.7366  0.0036  \n",
      "Fit time          3.05    4.70    3.33    3.09    3.26    3.49    0.62    \n",
      "Test time         0.11    0.19    0.11    0.24    0.12    0.15    0.05    \n"
     ]
    },
    {
     "data": {
      "text/plain": [
       "{'test_rmse': array([0.95378367, 0.94312382, 0.94298747, 0.95057745, 0.95224953]),\n",
       " 'test_mae': array([0.74176489, 0.73452848, 0.73097821, 0.73776971, 0.73783766]),\n",
       " 'fit_time': (3.0462005138397217,\n",
       "  4.702277660369873,\n",
       "  3.3343193531036377,\n",
       "  3.0917346477508545,\n",
       "  3.257685422897339),\n",
       " 'test_time': (0.1100306510925293,\n",
       "  0.1876373291015625,\n",
       "  0.10728621482849121,\n",
       "  0.24198246002197266,\n",
       "  0.12198233604431152)}"
      ]
     },
     "execution_count": 18,
     "metadata": {},
     "output_type": "execute_result"
    }
   ],
   "source": [
    "algoNMF = NMF(n_factors=50, n_epochs=70, reg_pu=0.06, reg_qi=0.06)\n",
    "cross_validate(algoNMF, data, measures=['RMSE', 'MAE'], cv=5, verbose=True)"
   ]
  },
  {
   "cell_type": "code",
   "execution_count": null,
   "id": "53136478-cddb-4af9-bba9-0499417eda6e",
   "metadata": {},
   "outputs": [],
   "source": []
  }
 ],
 "metadata": {
  "kernelspec": {
   "display_name": "Python 3 (ipykernel)",
   "language": "python",
   "name": "python3"
  },
  "language_info": {
   "codemirror_mode": {
    "name": "ipython",
    "version": 3
   },
   "file_extension": ".py",
   "mimetype": "text/x-python",
   "name": "python",
   "nbconvert_exporter": "python",
   "pygments_lexer": "ipython3",
   "version": "3.12.4"
  }
 },
 "nbformat": 4,
 "nbformat_minor": 5
}
