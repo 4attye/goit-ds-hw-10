{
 "cells": [
  {
   "cell_type": "code",
   "execution_count": 1,
   "id": "initial_id",
   "metadata": {
    "ExecuteTime": {
     "end_time": "2024-10-20T13:36:22.683144Z",
     "start_time": "2024-10-20T13:36:22.657295Z"
    }
   },
   "outputs": [],
   "source": [
    "from surprise import accuracy, Dataset, SVD, SVDpp, NMF\n",
    "from surprise.model_selection import cross_validate\n",
    "from surprise.model_selection import train_test_split\n",
    "from surprise.model_selection import GridSearchCV"
   ]
  },
  {
   "cell_type": "code",
   "execution_count": 2,
   "id": "2f524623-434e-40a7-8da0-bf87b9a75fd8",
   "metadata": {},
   "outputs": [
    {
     "name": "stdout",
     "output_type": "stream",
     "text": [
      "RMSE: 0.9396\n",
      "MAE:  0.7405\n"
     ]
    },
    {
     "data": {
      "text/plain": [
       "0.740493973911057"
      ]
     },
     "execution_count": 2,
     "metadata": {},
     "output_type": "execute_result"
    }
   ],
   "source": [
    "data = Dataset.load_builtin('ml-100k')\n",
    "trainset, testset = train_test_split(data, test_size=0.25)\n",
    "algo = SVD()\n",
    "predictions = algo.fit(trainset).test(testset)\n",
    "accuracy.rmse(predictions)\n",
    "accuracy.mae(predictions)"
   ]
  },
  {
   "cell_type": "code",
   "execution_count": 3,
   "id": "03a38d86-0270-4b93-8e7c-1593285273ed",
   "metadata": {},
   "outputs": [
    {
     "name": "stdout",
     "output_type": "stream",
     "text": [
      "{'n_factors': 150, 'n_epochs': 40, 'lr_all': 0.01, 'reg_all': 0.1}\n"
     ]
    }
   ],
   "source": [
    "param_grid_SVD = {\n",
    "    'n_factors': [50, 100, 150],\n",
    "    'n_epochs': [20, 30, 40],\n",
    "    'lr_all': [0.002, 0.005, 0.01],\n",
    "    'reg_all': [0.02, 0.05, 0.1]\n",
    "}\n",
    "\n",
    "gs = GridSearchCV(SVD, param_grid_SVD, measures=['rmse', 'mae'], cv=3)\n",
    "gs.fit(data)\n",
    "\n",
    "print(gs.best_params['rmse'])"
   ]
  },
  {
   "cell_type": "code",
   "execution_count": null,
   "id": "06f8f16d-5973-465a-b728-a6b9506568ba",
   "metadata": {},
   "outputs": [],
   "source": [
    "param_grid_SVDpp = {\n",
    "    'n_factors': [20, 50, 100],\n",
    "    'n_epochs': [20, 30, 40],\n",
    "    'lr_all': [0.002, 0.005, 0.01],\n",
    "    'reg_all': [0.02, 0.05, 0.1]\n",
    "}\n",
    "\n",
    "gs = GridSearchCV(SVDpp, param_grid_SVDpp, measures=['rmse', 'mae'], cv=3)\n",
    "gs.fit(data)\n",
    "\n",
    "print(gs.best_params['rmse'])"
   ]
  },
  {
   "cell_type": "code",
   "execution_count": null,
   "id": "79eac245-72f2-4ed8-8600-0e360c4d65b1",
   "metadata": {},
   "outputs": [],
   "source": [
    "param_grid_NMF = {\n",
    "    'n_factors': [15, 30, 50],\n",
    "    'n_epochs': [20, 50, 70],\n",
    "    'reg_pu': [0.04, 0.05, 0.06],\n",
    "    'reg_qi': [0.04, 0.05, 0.06]\n",
    "}\n",
    "\n",
    "gs = GridSearchCV(NMF, param_grid_NMF, measures=['rmse', 'mae'], cv=3)\n",
    "gs.fit(data)\n",
    "\n",
    "print(gs.best_params['rmse'])"
   ]
  },
  {
   "cell_type": "code",
   "execution_count": null,
   "id": "66ada511-6bc0-4abb-a6fc-364c8f09bfec",
   "metadata": {},
   "outputs": [],
   "source": [
    "algoSVD = SVD(n_factors=150, n_epochs=40, lr_all=0.01, reg_all=0.1)\n",
    "cross_validate(algoSVD, data, measures=['RMSE', 'MAE'], cv=5, verbose=True)"
   ]
  },
  {
   "cell_type": "code",
   "execution_count": null,
   "id": "6c2c8c24-122a-452f-bef7-d60695a867da",
   "metadata": {},
   "outputs": [],
   "source": [
    "# algoSVDpp = SVDpp(n_factors=100, n_epochs=30, lr_all=0.005, reg_all=0.02)\n",
    "# cross_validate(algoSVDpp, data, measures=['RMSE', 'MAE'], cv=5, verbose=True)"
   ]
  },
  {
   "cell_type": "code",
   "execution_count": null,
   "id": "ffe9d30d-002b-484d-bc48-e8cb1f9bc843",
   "metadata": {},
   "outputs": [],
   "source": [
    "# algoNMF = NMF(n_factors=30, n_epochs=50, reg_pu=0.05, reg_qi=0.05)\n",
    "# cross_validate(algoNMF, data, measures=['RMSE', 'MAE'], cv=5, verbose=True)"
   ]
  }
 ],
 "metadata": {
  "kernelspec": {
   "display_name": "Python 3 (ipykernel)",
   "language": "python",
   "name": "python3"
  },
  "language_info": {
   "codemirror_mode": {
    "name": "ipython",
    "version": 3
   },
   "file_extension": ".py",
   "mimetype": "text/x-python",
   "name": "python",
   "nbconvert_exporter": "python",
   "pygments_lexer": "ipython3",
   "version": "3.12.4"
  }
 },
 "nbformat": 4,
 "nbformat_minor": 5
}
