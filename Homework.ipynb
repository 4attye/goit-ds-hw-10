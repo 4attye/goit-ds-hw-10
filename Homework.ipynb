{
 "cells": [
  {
   "cell_type": "code",
   "execution_count": 1,
   "id": "b6f23e86-d41d-4cb0-baff-fed2883e5086",
   "metadata": {},
   "outputs": [
    {
     "name": "stdout",
     "output_type": "stream",
     "text": [
      "Requirement already satisfied: scikit-surprise in c:\\users\\4atty\\anaconda\\lib\\site-packages (1.1.4)\n",
      "Requirement already satisfied: joblib>=1.2.0 in c:\\users\\4atty\\anaconda\\lib\\site-packages (from scikit-surprise) (1.4.2)\n",
      "Requirement already satisfied: numpy>=1.19.5 in c:\\users\\4atty\\anaconda\\lib\\site-packages (from scikit-surprise) (1.26.4)\n",
      "Requirement already satisfied: scipy>=1.6.0 in c:\\users\\4atty\\anaconda\\lib\\site-packages (from scikit-surprise) (1.13.1)\n",
      "Note: you may need to restart the kernel to use updated packages.\n"
     ]
    }
   ],
   "source": [
    "pip install scikit-surprise"
   ]
  },
  {
   "cell_type": "code",
   "execution_count": 14,
   "id": "initial_id",
   "metadata": {
    "ExecuteTime": {
     "end_time": "2024-10-20T13:36:22.683144Z",
     "start_time": "2024-10-20T13:36:22.657295Z"
    }
   },
   "outputs": [],
   "source": [
    "from surprise import accuracy, Dataset, SVD, SVDpp, NMF\n",
    "from surprise.model_selection import cross_validate\n",
    "from surprise.model_selection import train_test_split\n",
    "from surprise.model_selection import GridSearchCV"
   ]
  },
  {
   "cell_type": "code",
   "execution_count": 3,
   "id": "2520761ff3a6c290",
   "metadata": {
    "ExecuteTime": {
     "end_time": "2024-10-20T13:36:24.820192Z",
     "start_time": "2024-10-20T13:36:24.811536Z"
    }
   },
   "outputs": [
    {
     "name": "stdout",
     "output_type": "stream",
     "text": [
      "Evaluating RMSE, MAE of algorithm SVD on 5 split(s).\n",
      "\n",
      "                  Fold 1  Fold 2  Fold 3  Fold 4  Fold 5  Mean    Std     \n",
      "RMSE (testset)    0.9280  0.9260  0.9367  0.9357  0.9464  0.9346  0.0073  \n",
      "MAE (testset)     0.7350  0.7308  0.7368  0.7367  0.7444  0.7368  0.0044  \n",
      "Fit time          0.31    0.32    0.37    0.35    0.65    0.40    0.13    \n",
      "Test time         0.06    0.05    0.09    0.06    0.12    0.08    0.03    \n"
     ]
    },
    {
     "data": {
      "text/plain": [
       "{'test_rmse': array([0.92799239, 0.92596437, 0.93667967, 0.93574877, 0.94641509]),\n",
       " 'test_mae': array([0.73501096, 0.73081802, 0.73684276, 0.73670805, 0.74439869]),\n",
       " 'fit_time': (0.31156110763549805,\n",
       "  0.3186066150665283,\n",
       "  0.3726935386657715,\n",
       "  0.354877233505249,\n",
       "  0.6529507637023926),\n",
       " 'test_time': (0.06041312217712402,\n",
       "  0.049077749252319336,\n",
       "  0.0913848876953125,\n",
       "  0.06402897834777832,\n",
       "  0.12099933624267578)}"
      ]
     },
     "execution_count": 3,
     "metadata": {},
     "output_type": "execute_result"
    }
   ],
   "source": [
    "data = Dataset.load_builtin('ml-100k')\n",
    "\n",
    "algoSVD = SVD()\n",
    "cross_validate(algoSVD, data, measures=['RMSE', 'MAE'], cv=5, verbose=True)"
   ]
  },
  {
   "cell_type": "code",
   "execution_count": 4,
   "id": "d834bf0683f4a3fa",
   "metadata": {},
   "outputs": [
    {
     "name": "stdout",
     "output_type": "stream",
     "text": [
      "Evaluating RMSE, MAE of algorithm SVDpp on 5 split(s).\n",
      "\n",
      "                  Fold 1  Fold 2  Fold 3  Fold 4  Fold 5  Mean    Std     \n",
      "RMSE (testset)    0.9175  0.9194  0.9250  0.9180  0.9145  0.9189  0.0034  \n",
      "MAE (testset)     0.7204  0.7181  0.7256  0.7222  0.7162  0.7205  0.0033  \n",
      "Fit time          24.36   26.07   27.07   25.43   25.64   25.72   0.88    \n",
      "Test time         4.08    4.51    5.02    3.77    3.71    4.22    0.49    \n"
     ]
    },
    {
     "data": {
      "text/plain": [
       "{'test_rmse': array([0.9174835 , 0.91942004, 0.92497512, 0.91800784, 0.91448093]),\n",
       " 'test_mae': array([0.72035652, 0.71810875, 0.72558935, 0.72217386, 0.7162001 ]),\n",
       " 'fit_time': (24.35696029663086,\n",
       "  26.0717716217041,\n",
       "  27.07059144973755,\n",
       "  25.432604551315308,\n",
       "  25.643888235092163),\n",
       " 'test_time': (4.078376293182373,\n",
       "  4.5094239711761475,\n",
       "  5.0183045864105225,\n",
       "  3.7749390602111816,\n",
       "  3.7086665630340576)}"
      ]
     },
     "execution_count": 4,
     "metadata": {},
     "output_type": "execute_result"
    }
   ],
   "source": [
    "algoSVDpp = SVDpp(n_factors=100, n_epochs=30, lr_all=0.005, reg_all=0.02)\n",
    "cross_validate(algoSVDpp, data, measures=['RMSE', 'MAE'], cv=5, verbose=True)"
   ]
  },
  {
   "cell_type": "code",
   "execution_count": 5,
   "id": "47cfba5f-7406-4ee5-a6a1-46656a9c87c1",
   "metadata": {},
   "outputs": [
    {
     "name": "stdout",
     "output_type": "stream",
     "text": [
      "Evaluating RMSE, MAE of algorithm NMF on 5 split(s).\n",
      "\n",
      "                  Fold 1  Fold 2  Fold 3  Fold 4  Fold 5  Mean    Std     \n",
      "RMSE (testset)    0.9535  0.9655  0.9677  0.9629  0.9679  0.9635  0.0053  \n",
      "MAE (testset)     0.7482  0.7615  0.7605  0.7569  0.7582  0.7570  0.0047  \n",
      "Fit time          1.16    1.21    1.27    1.19    1.15    1.19    0.04    \n",
      "Test time         0.15    0.15    0.19    0.11    0.17    0.15    0.03    \n"
     ]
    },
    {
     "data": {
      "text/plain": [
       "{'test_rmse': array([0.9534788 , 0.96547463, 0.96768189, 0.96292684, 0.9679166 ]),\n",
       " 'test_mae': array([0.74820748, 0.76149247, 0.76046923, 0.75688503, 0.7581592 ]),\n",
       " 'fit_time': (1.1624205112457275,\n",
       "  1.206655502319336,\n",
       "  1.2654802799224854,\n",
       "  1.1889111995697021,\n",
       "  1.1499085426330566),\n",
       " 'test_time': (0.15027332305908203,\n",
       "  0.14899897575378418,\n",
       "  0.1897127628326416,\n",
       "  0.11400079727172852,\n",
       "  0.17172718048095703)}"
      ]
     },
     "execution_count": 5,
     "metadata": {},
     "output_type": "execute_result"
    }
   ],
   "source": [
    "algoNMF = NMF()\n",
    "cross_validate(algoNMF, data, measures=['RMSE', 'MAE'], cv=5, verbose=True)"
   ]
  },
  {
   "cell_type": "code",
   "execution_count": 6,
   "id": "2f524623-434e-40a7-8da0-bf87b9a75fd8",
   "metadata": {},
   "outputs": [
    {
     "name": "stdout",
     "output_type": "stream",
     "text": [
      "RMSE: 0.9350\n",
      "MAE:  0.7367\n"
     ]
    },
    {
     "data": {
      "text/plain": [
       "0.7367397754430995"
      ]
     },
     "execution_count": 6,
     "metadata": {},
     "output_type": "execute_result"
    }
   ],
   "source": [
    "trainset, testset = train_test_split(data, test_size=0.25)\n",
    "algo = SVD()\n",
    "predictions = algo.fit(trainset).test(testset)\n",
    "accuracy.rmse(predictions)\n",
    "accuracy.mae(predictions)"
   ]
  },
  {
   "cell_type": "code",
   "execution_count": null,
   "id": "03a38d86-0270-4b93-8e7c-1593285273ed",
   "metadata": {},
   "outputs": [],
   "source": [
    "param_grid = {\n",
    "    'n_factors': [50, 100, 150],\n",
    "    'n_epochs': [20, 30, 40],\n",
    "    'lr_all': [0.002, 0.005, 0.01],\n",
    "    'reg_all': [0.02, 0.05, 0.1]\n",
    "}\n",
    "\n",
    "gs = GridSearchCV(SVD, param_grid, measures=['rmse', 'mae'], cv=3)\n",
    "gs.fit(data)\n",
    "\n",
    "print(gs.best_params['rmse'])"
   ]
  }
 ],
 "metadata": {
  "kernelspec": {
   "display_name": "Python 3 (ipykernel)",
   "language": "python",
   "name": "python3"
  },
  "language_info": {
   "codemirror_mode": {
    "name": "ipython",
    "version": 3
   },
   "file_extension": ".py",
   "mimetype": "text/x-python",
   "name": "python",
   "nbconvert_exporter": "python",
   "pygments_lexer": "ipython3",
   "version": "3.12.4"
  }
 },
 "nbformat": 4,
 "nbformat_minor": 5
}
