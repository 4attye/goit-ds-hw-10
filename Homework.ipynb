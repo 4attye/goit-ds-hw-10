{
 "cells": [
  {
   "cell_type": "code",
   "execution_count": 6,
   "id": "b6f23e86-d41d-4cb0-baff-fed2883e5086",
   "metadata": {},
   "outputs": [
    {
     "name": "stdout",
     "output_type": "stream",
     "text": [
      "Collecting scikit-surprise\n",
      "  Using cached scikit_surprise-1.1.4-cp312-cp312-win_amd64.whl\n",
      "Requirement already satisfied: joblib>=1.2.0 in c:\\users\\4atty\\anaconda\\lib\\site-packages (from scikit-surprise) (1.4.2)\n",
      "Requirement already satisfied: numpy>=1.19.5 in c:\\users\\4atty\\anaconda\\lib\\site-packages (from scikit-surprise) (1.26.4)\n",
      "Requirement already satisfied: scipy>=1.6.0 in c:\\users\\4atty\\anaconda\\lib\\site-packages (from scikit-surprise) (1.13.1)\n",
      "Installing collected packages: scikit-surprise\n",
      "Successfully installed scikit-surprise-1.1.4\n",
      "Note: you may need to restart the kernel to use updated packages.\n"
     ]
    }
   ],
   "source": [
    "pip install scikit-surprise"
   ]
  },
  {
   "cell_type": "code",
   "execution_count": 16,
   "id": "initial_id",
   "metadata": {
    "ExecuteTime": {
     "end_time": "2024-10-20T13:36:22.683144Z",
     "start_time": "2024-10-20T13:36:22.657295Z"
    }
   },
   "outputs": [],
   "source": [
    "from surprise import Dataset, SVD, SVDpp, NMF\n",
    "from surprise.model_selection import cross_validate"
   ]
  },
  {
   "cell_type": "code",
   "execution_count": 18,
   "id": "2520761ff3a6c290",
   "metadata": {
    "ExecuteTime": {
     "end_time": "2024-10-20T13:36:24.820192Z",
     "start_time": "2024-10-20T13:36:24.811536Z"
    }
   },
   "outputs": [
    {
     "name": "stdout",
     "output_type": "stream",
     "text": [
      "Evaluating RMSE, MAE of algorithm SVD on 5 split(s).\n",
      "\n",
      "                  Fold 1  Fold 2  Fold 3  Fold 4  Fold 5  Mean    Std     \n",
      "RMSE (testset)    0.9354  0.9364  0.9360  0.9347  0.9416  0.9368  0.0025  \n",
      "MAE (testset)     0.7366  0.7363  0.7375  0.7358  0.7440  0.7380  0.0030  \n",
      "Fit time          0.64    0.70    0.63    0.74    0.64    0.67    0.04    \n",
      "Test time         0.22    0.17    0.20    0.12    0.13    0.17    0.04    \n"
     ]
    },
    {
     "data": {
      "text/plain": [
       "{'test_rmse': array([0.93543121, 0.93635045, 0.93597304, 0.93471845, 0.94159965]),\n",
       " 'test_mae': array([0.73664742, 0.7362576 , 0.73746887, 0.73576221, 0.74402551]),\n",
       " 'fit_time': (0.6406054496765137,\n",
       "  0.7003469467163086,\n",
       "  0.6299831867218018,\n",
       "  0.7404797077178955,\n",
       "  0.6378533840179443),\n",
       " 'test_time': (0.22301030158996582,\n",
       "  0.16901063919067383,\n",
       "  0.19961929321289062,\n",
       "  0.11899948120117188,\n",
       "  0.13198256492614746)}"
      ]
     },
     "execution_count": 18,
     "metadata": {},
     "output_type": "execute_result"
    }
   ],
   "source": [
    "data = Dataset.load_builtin('ml-100k')\n",
    "\n",
    "algoSVD = SVD()\n",
    "cross_validate(algoSVD, data, measures=['RMSE', 'MAE'], cv=5, verbose=True)"
   ]
  },
  {
   "cell_type": "code",
   "execution_count": 20,
   "id": "d834bf0683f4a3fa",
   "metadata": {},
   "outputs": [
    {
     "name": "stdout",
     "output_type": "stream",
     "text": [
      "Evaluating RMSE, MAE of algorithm SVDpp on 5 split(s).\n",
      "\n",
      "                  Fold 1  Fold 2  Fold 3  Fold 4  Fold 5  Mean    Std     \n",
      "RMSE (testset)    0.9180  0.9167  0.9188  0.9267  0.9190  0.9198  0.0035  \n",
      "MAE (testset)     0.7217  0.7205  0.7210  0.7254  0.7191  0.7215  0.0021  \n",
      "Fit time          23.13   24.52   23.70   24.81   24.93   24.22   0.69    \n",
      "Test time         4.45    3.65    4.03    4.23    3.98    4.07    0.27    \n"
     ]
    },
    {
     "data": {
      "text/plain": [
       "{'test_rmse': array([0.91803134, 0.91671537, 0.91876112, 0.92669916, 0.91903385]),\n",
       " 'test_mae': array([0.72171517, 0.72051935, 0.72104775, 0.72538931, 0.71906167]),\n",
       " 'fit_time': (23.126075744628906,\n",
       "  24.521687507629395,\n",
       "  23.699095249176025,\n",
       "  24.80516242980957,\n",
       "  24.930864572525024),\n",
       " 'test_time': (4.450955390930176,\n",
       "  3.6478028297424316,\n",
       "  4.026811838150024,\n",
       "  4.227181911468506,\n",
       "  3.9762682914733887)}"
      ]
     },
     "execution_count": 20,
     "metadata": {},
     "output_type": "execute_result"
    }
   ],
   "source": [
    "algoSVDpp = SVDpp()\n",
    "cross_validate(algoSVDpp, data, measures=['RMSE', 'MAE'], cv=5, verbose=True)"
   ]
  },
  {
   "cell_type": "code",
   "execution_count": 21,
   "id": "47cfba5f-7406-4ee5-a6a1-46656a9c87c1",
   "metadata": {},
   "outputs": [
    {
     "name": "stdout",
     "output_type": "stream",
     "text": [
      "Evaluating RMSE, MAE of algorithm NMF on 5 split(s).\n",
      "\n",
      "                  Fold 1  Fold 2  Fold 3  Fold 4  Fold 5  Mean    Std     \n",
      "RMSE (testset)    0.9601  0.9725  0.9589  0.9621  0.9614  0.9630  0.0049  \n",
      "MAE (testset)     0.7554  0.7627  0.7517  0.7531  0.7595  0.7565  0.0041  \n",
      "Fit time          1.51    1.52    1.15    1.27    1.22    1.33    0.15    \n",
      "Test time         0.09    0.13    0.15    0.12    0.23    0.14    0.05    \n"
     ]
    },
    {
     "data": {
      "text/plain": [
       "{'test_rmse': array([0.96006858, 0.9724853 , 0.95891251, 0.96208822, 0.96136433]),\n",
       " 'test_mae': array([0.755355  , 0.76273872, 0.751695  , 0.75309128, 0.75953084]),\n",
       " 'fit_time': (1.50762939453125,\n",
       "  1.5162274837493896,\n",
       "  1.1537847518920898,\n",
       "  1.2702105045318604,\n",
       "  1.2166969776153564),\n",
       " 'test_time': (0.09002184867858887,\n",
       "  0.13363051414489746,\n",
       "  0.1509702205657959,\n",
       "  0.11500954627990723,\n",
       "  0.22690653800964355)}"
      ]
     },
     "execution_count": 21,
     "metadata": {},
     "output_type": "execute_result"
    }
   ],
   "source": [
    "algoNMF = NMF()\n",
    "cross_validate(algoNMF, data, measures=['RMSE', 'MAE'], cv=5, verbose=True)"
   ]
  },
  {
   "cell_type": "code",
   "execution_count": null,
   "id": "b43fcead-d8b5-418c-9eb7-19be90dede18",
   "metadata": {},
   "outputs": [],
   "source": []
  }
 ],
 "metadata": {
  "kernelspec": {
   "display_name": "Python 3 (ipykernel)",
   "language": "python",
   "name": "python3"
  },
  "language_info": {
   "codemirror_mode": {
    "name": "ipython",
    "version": 3
   },
   "file_extension": ".py",
   "mimetype": "text/x-python",
   "name": "python",
   "nbconvert_exporter": "python",
   "pygments_lexer": "ipython3",
   "version": "3.12.4"
  }
 },
 "nbformat": 4,
 "nbformat_minor": 5
}
